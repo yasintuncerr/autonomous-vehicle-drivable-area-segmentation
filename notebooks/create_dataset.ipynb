{
 "cells": [
  {
   "cell_type": "code",
   "execution_count": 2,
   "id": "59f9e2c0",
   "metadata": {},
   "outputs": [],
   "source": [
    "import os \n",
    "import sys\n",
    "from pathlib import Path\n",
    "from tqdm import tqdm\n",
    "from PIL import Image\n",
    "\n",
    "current_file_dir = os.getcwd()\n",
    "\n",
    "root_dir = os.path.dirname(current_file_dir)\n",
    "\n",
    "sys.path.append(root_dir)\n",
    "dataset_dir = os.path.join(root_dir, 'data')\n",
    "\n",
    "\n",
    "processed_dir = os.path.join(dataset_dir, 'processed')\n",
    "if not os.path.exists(processed_dir):\n",
    "    os.makedirs(processed_dir)\n",
    "\n",
    "\n"
   ]
  },
  {
   "cell_type": "code",
   "execution_count": 3,
   "id": "a85897b5",
   "metadata": {},
   "outputs": [],
   "source": [
    "from src.utils.preprocess import create_pointcloud_image, create_morphological_polygon\n"
   ]
  },
  {
   "cell_type": "code",
   "execution_count": 4,
   "id": "2fa2fb1f",
   "metadata": {},
   "outputs": [],
   "source": [
    "from nuscenes import NuScenes"
   ]
  },
  {
   "cell_type": "code",
   "execution_count": 5,
   "id": "6d2aa96e",
   "metadata": {},
   "outputs": [],
   "source": [
    "## GLOBAL VARIABLES\n",
    "filtered_categories = [24] # flat.drivable_surface\n",
    "\n",
    "target_image_size = (398, 224)\n",
    "dot_size = 5\n",
    "\n",
    "pointsensor_channel = 'LIDAR_TOP'\n",
    "camera_channel = 'CAM_FRONT'"
   ]
  },
  {
   "cell_type": "code",
   "execution_count": 6,
   "id": "b9f79f73",
   "metadata": {},
   "outputs": [],
   "source": [
    "def extract_lidarseg_data(nusc, save_dir, filtered_categories, target_image_size, dot_size, pointsensor_channel, camera_channel):\n",
    "    if not os.path.exists(save_dir):\n",
    "        os.makedirs(save_dir)\n",
    "\n",
    "    outputs_type = [\"cam\", \"masked\", \"pc\"]\n",
    "    for output_type in outputs_type:\n",
    "        output_dir_type = os.path.join(save_dir, output_type)\n",
    "        if not os.path.exists(output_dir_type):\n",
    "            os.makedirs(output_dir_type)\n",
    "\n",
    "    \n",
    "    counter = 0\n",
    "    for sample in tqdm(nusc.sample, desc=\"Processing samples\"):\n",
    "        token = sample['token']\n",
    "        try:\n",
    "            points, coloring, pil_image = nusc.explorer.map_pointcloud_to_image(\n",
    "                pointsensor_token=sample['data'][pointsensor_channel],\n",
    "                camera_token=sample['data'][camera_channel],\n",
    "                filter_lidarseg_labels=filtered_categories,\n",
    "                render_intensity=False,\n",
    "                show_panoptic=False,\n",
    "                show_lidarseg=True\n",
    "            )\n",
    "        except Exception as e:\n",
    "            print(f\"Error processing sample {token}: {e}\")\n",
    "            continue\n",
    "\n",
    "        if points is None or coloring is None or pil_image is None:\n",
    "            print(f\"Skipping sample {token} due to missing data.\")\n",
    "            continue\n",
    "\n",
    "        resized_image = pil_image.resize(target_image_size, Image.ANTIALIAS)\n",
    "        point_cloud_image = create_pointcloud_image(\n",
    "                                        points=points,\n",
    "                                        coloring=coloring,\n",
    "                                        image_size=pil_image.size,\n",
    "                                        dot_size=dot_size,\n",
    "                                        ignore_white=False\n",
    "                                    )   \n",
    "    point_cloud_image = point_cloud_image.resize(target_image_size, Image.ANTIALIAS)\n",
    "\n",
    "    masked_image = create_morphological_polygon(\n",
    "                                    points=points,\n",
    "                                    coloring=coloring,\n",
    "                                    image_size=pil_image.size,\n",
    "                                    radius=5,\n",
    "                                    )\n",
    "    masked_image = masked_image.resize(target_image_size, Image.ANTIALIAS)\n",
    "\n",
    "    counter += 1\n",
    "    if counter % 1000 == 0:\n",
    "        print(f\"Processed {counter} samples.\")\n",
    "    resized_image.save(os.path.join(output_dir, f\"cam/{token}.png\"))\n",
    "    masked_image.save(os.path.join(output_dir, f\"masked/{token}.png\"))\n",
    "    point_cloud_image.save(os.path.join(output_dir, f\"pc/{token}.png\"))\n",
    "    print(f\"All samples processed and images saved in {output_dir}.\")\n",
    "    print(f\"Processed images saved in {output_dir}.\")\n",
    "    \n",
    "    "
   ]
  },
  {
   "cell_type": "code",
   "execution_count": null,
   "id": "37922a35",
   "metadata": {},
   "outputs": [],
   "source": [
    "\n",
    "## extract lidarseg data trainval\n",
    "nusc = NuScenes(version='v1.0-trainval', dataroot=dataset_dir +\"/sets/nuscenes\", verbose=True)\n",
    "\n",
    "output_dir = os.path.join(processed_dir, 'lidarseg_images/trainval')\n",
    "if not os.path.exists(output_dir):\n",
    "    os.makedirs(output_dir)\n",
    "\n",
    "\n",
    "extract_lidarseg_data(\n",
    "    nusc=nusc,\n",
    "    save_dir=output_dir,\n",
    "    filtered_categories=filtered_categories,\n",
    "    target_image_size=target_image_size,\n",
    "    dot_size=dot_size,\n",
    "    pointsensor_channel=pointsensor_channel,\n",
    "    camera_channel=camera_channel\n",
    ")"
   ]
  },
  {
   "cell_type": "code",
   "execution_count": 7,
   "id": "6f5b172f",
   "metadata": {},
   "outputs": [
    {
     "name": "stdout",
     "output_type": "stream",
     "text": [
      "======\n",
      "Loading NuScenes tables for version v1.0-test...\n"
     ]
    },
    {
     "ename": "FileNotFoundError",
     "evalue": "[Errno 2] No such file or directory: '/home/yasin/Lfstorage/Projects/autonomous-vehicle-drivable-area-segmentation/data/sets/nuscenes/v1.0-test/attribute.json'",
     "output_type": "error",
     "traceback": [
      "\u001b[0;31m---------------------------------------------------------------------------\u001b[0m",
      "\u001b[0;31mFileNotFoundError\u001b[0m                         Traceback (most recent call last)",
      "\u001b[0;32m/tmp/ipykernel_1128714/584450891.py\u001b[0m in \u001b[0;36m<module>\u001b[0;34m\u001b[0m\n\u001b[0;32m----> 1\u001b[0;31m \u001b[0mnusc_test\u001b[0m \u001b[0;34m=\u001b[0m \u001b[0mNuScenes\u001b[0m\u001b[0;34m(\u001b[0m\u001b[0mversion\u001b[0m\u001b[0;34m=\u001b[0m\u001b[0;34m'v1.0-test'\u001b[0m\u001b[0;34m,\u001b[0m \u001b[0mdataroot\u001b[0m\u001b[0;34m=\u001b[0m\u001b[0mdataset_dir\u001b[0m \u001b[0;34m+\u001b[0m\u001b[0;34m\"/sets/nuscenes\"\u001b[0m\u001b[0;34m,\u001b[0m \u001b[0mverbose\u001b[0m\u001b[0;34m=\u001b[0m\u001b[0;32mTrue\u001b[0m\u001b[0;34m)\u001b[0m\u001b[0;34m\u001b[0m\u001b[0;34m\u001b[0m\u001b[0m\n\u001b[0m\u001b[1;32m      2\u001b[0m \u001b[0moutput_dir_test\u001b[0m \u001b[0;34m=\u001b[0m \u001b[0mos\u001b[0m\u001b[0;34m.\u001b[0m\u001b[0mpath\u001b[0m\u001b[0;34m.\u001b[0m\u001b[0mjoin\u001b[0m\u001b[0;34m(\u001b[0m\u001b[0mprocessed_dir\u001b[0m\u001b[0;34m,\u001b[0m \u001b[0;34m'lidarseg_images/test'\u001b[0m\u001b[0;34m)\u001b[0m\u001b[0;34m\u001b[0m\u001b[0;34m\u001b[0m\u001b[0m\n\u001b[1;32m      3\u001b[0m \u001b[0;32mif\u001b[0m \u001b[0;32mnot\u001b[0m \u001b[0mos\u001b[0m\u001b[0;34m.\u001b[0m\u001b[0mpath\u001b[0m\u001b[0;34m.\u001b[0m\u001b[0mexists\u001b[0m\u001b[0;34m(\u001b[0m\u001b[0moutput_dir_test\u001b[0m\u001b[0;34m)\u001b[0m\u001b[0;34m:\u001b[0m\u001b[0;34m\u001b[0m\u001b[0;34m\u001b[0m\u001b[0m\n\u001b[1;32m      4\u001b[0m     \u001b[0mos\u001b[0m\u001b[0;34m.\u001b[0m\u001b[0mmakedirs\u001b[0m\u001b[0;34m(\u001b[0m\u001b[0moutput_dir_test\u001b[0m\u001b[0;34m)\u001b[0m\u001b[0;34m\u001b[0m\u001b[0;34m\u001b[0m\u001b[0m\n\u001b[1;32m      5\u001b[0m \u001b[0;34m\u001b[0m\u001b[0m\n",
      "\u001b[0;32m~/Lfstorage/anaconda3/envs/nuscenes/lib/python3.7/site-packages/nuscenes/nuscenes.py\u001b[0m in \u001b[0;36m__init__\u001b[0;34m(self, version, dataroot, verbose, map_resolution)\u001b[0m\n\u001b[1;32m     68\u001b[0m         \u001b[0;31m# Explicitly assign tables to help the IDE determine valid class members.\u001b[0m\u001b[0;34m\u001b[0m\u001b[0;34m\u001b[0m\u001b[0;34m\u001b[0m\u001b[0m\n\u001b[1;32m     69\u001b[0m         \u001b[0mself\u001b[0m\u001b[0;34m.\u001b[0m\u001b[0mcategory\u001b[0m \u001b[0;34m=\u001b[0m \u001b[0mself\u001b[0m\u001b[0;34m.\u001b[0m\u001b[0m__load_table__\u001b[0m\u001b[0;34m(\u001b[0m\u001b[0;34m'category'\u001b[0m\u001b[0;34m)\u001b[0m\u001b[0;34m\u001b[0m\u001b[0;34m\u001b[0m\u001b[0m\n\u001b[0;32m---> 70\u001b[0;31m         \u001b[0mself\u001b[0m\u001b[0;34m.\u001b[0m\u001b[0mattribute\u001b[0m \u001b[0;34m=\u001b[0m \u001b[0mself\u001b[0m\u001b[0;34m.\u001b[0m\u001b[0m__load_table__\u001b[0m\u001b[0;34m(\u001b[0m\u001b[0;34m'attribute'\u001b[0m\u001b[0;34m)\u001b[0m\u001b[0;34m\u001b[0m\u001b[0;34m\u001b[0m\u001b[0m\n\u001b[0m\u001b[1;32m     71\u001b[0m         \u001b[0mself\u001b[0m\u001b[0;34m.\u001b[0m\u001b[0mvisibility\u001b[0m \u001b[0;34m=\u001b[0m \u001b[0mself\u001b[0m\u001b[0;34m.\u001b[0m\u001b[0m__load_table__\u001b[0m\u001b[0;34m(\u001b[0m\u001b[0;34m'visibility'\u001b[0m\u001b[0;34m)\u001b[0m\u001b[0;34m\u001b[0m\u001b[0;34m\u001b[0m\u001b[0m\n\u001b[1;32m     72\u001b[0m         \u001b[0mself\u001b[0m\u001b[0;34m.\u001b[0m\u001b[0minstance\u001b[0m \u001b[0;34m=\u001b[0m \u001b[0mself\u001b[0m\u001b[0;34m.\u001b[0m\u001b[0m__load_table__\u001b[0m\u001b[0;34m(\u001b[0m\u001b[0;34m'instance'\u001b[0m\u001b[0;34m)\u001b[0m\u001b[0;34m\u001b[0m\u001b[0;34m\u001b[0m\u001b[0m\n",
      "\u001b[0;32m~/Lfstorage/anaconda3/envs/nuscenes/lib/python3.7/site-packages/nuscenes/nuscenes.py\u001b[0m in \u001b[0;36m__load_table__\u001b[0;34m(self, table_name)\u001b[0m\n\u001b[1;32m    134\u001b[0m     \u001b[0;32mdef\u001b[0m \u001b[0m__load_table__\u001b[0m\u001b[0;34m(\u001b[0m\u001b[0mself\u001b[0m\u001b[0;34m,\u001b[0m \u001b[0mtable_name\u001b[0m\u001b[0;34m)\u001b[0m \u001b[0;34m->\u001b[0m \u001b[0mdict\u001b[0m\u001b[0;34m:\u001b[0m\u001b[0;34m\u001b[0m\u001b[0;34m\u001b[0m\u001b[0m\n\u001b[1;32m    135\u001b[0m         \u001b[0;34m\"\"\" Loads a table. \"\"\"\u001b[0m\u001b[0;34m\u001b[0m\u001b[0;34m\u001b[0m\u001b[0m\n\u001b[0;32m--> 136\u001b[0;31m         \u001b[0;32mwith\u001b[0m \u001b[0mopen\u001b[0m\u001b[0;34m(\u001b[0m\u001b[0mosp\u001b[0m\u001b[0;34m.\u001b[0m\u001b[0mjoin\u001b[0m\u001b[0;34m(\u001b[0m\u001b[0mself\u001b[0m\u001b[0;34m.\u001b[0m\u001b[0mtable_root\u001b[0m\u001b[0;34m,\u001b[0m \u001b[0;34m'{}.json'\u001b[0m\u001b[0;34m.\u001b[0m\u001b[0mformat\u001b[0m\u001b[0;34m(\u001b[0m\u001b[0mtable_name\u001b[0m\u001b[0;34m)\u001b[0m\u001b[0;34m)\u001b[0m\u001b[0;34m)\u001b[0m \u001b[0;32mas\u001b[0m \u001b[0mf\u001b[0m\u001b[0;34m:\u001b[0m\u001b[0;34m\u001b[0m\u001b[0;34m\u001b[0m\u001b[0m\n\u001b[0m\u001b[1;32m    137\u001b[0m             \u001b[0mtable\u001b[0m \u001b[0;34m=\u001b[0m \u001b[0mjson\u001b[0m\u001b[0;34m.\u001b[0m\u001b[0mload\u001b[0m\u001b[0;34m(\u001b[0m\u001b[0mf\u001b[0m\u001b[0;34m)\u001b[0m\u001b[0;34m\u001b[0m\u001b[0;34m\u001b[0m\u001b[0m\n\u001b[1;32m    138\u001b[0m         \u001b[0;32mreturn\u001b[0m \u001b[0mtable\u001b[0m\u001b[0;34m\u001b[0m\u001b[0;34m\u001b[0m\u001b[0m\n",
      "\u001b[0;31mFileNotFoundError\u001b[0m: [Errno 2] No such file or directory: '/home/yasin/Lfstorage/Projects/autonomous-vehicle-drivable-area-segmentation/data/sets/nuscenes/v1.0-test/attribute.json'"
     ]
    }
   ],
   "source": [
    "nusc_test = NuScenes(version='v1.0-test', dataroot=dataset_dir +\"/sets/nuscenes\", verbose=True)\n",
    "output_dir_test = os.path.join(processed_dir, 'lidarseg_images/test')\n",
    "if not os.path.exists(output_dir_test):\n",
    "    os.makedirs(output_dir_test)\n",
    "\n",
    "## extract lidarseg data test\n",
    "\n",
    "extract_lidarseg_data(\n",
    "    nusc=nusc_test,\n",
    "    save_dir=output_dir_test,\n",
    "    filtered_categories=filtered_categories,\n",
    "    target_image_size=target_image_size,\n",
    "    dot_size=dot_size,\n",
    "    pointsensor_channel=pointsensor_channel,\n",
    "    camera_channel=camera_channel\n",
    ")"
   ]
  },
  {
   "cell_type": "code",
   "execution_count": null,
   "id": "5df38311",
   "metadata": {},
   "outputs": [],
   "source": []
  }
 ],
 "metadata": {
  "kernelspec": {
   "display_name": "nuscenes",
   "language": "python",
   "name": "python3"
  },
  "language_info": {
   "codemirror_mode": {
    "name": "ipython",
    "version": 3
   },
   "file_extension": ".py",
   "mimetype": "text/x-python",
   "name": "python",
   "nbconvert_exporter": "python",
   "pygments_lexer": "ipython3",
   "version": "3.7.12"
  }
 },
 "nbformat": 4,
 "nbformat_minor": 5
}
